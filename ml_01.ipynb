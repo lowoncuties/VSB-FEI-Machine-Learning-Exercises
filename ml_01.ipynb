{
 "cells": [
  {
   "cell_type": "markdown",
   "id": "45399425",
   "metadata": {},
   "source": [
    "## Utils"
   ]
  },
  {
   "cell_type": "code",
   "execution_count": null,
   "id": "c47d186e",
   "metadata": {},
   "outputs": [],
   "source": [
    "def read_input(inputf, data):\n",
    "   with open(inputf) as f:\n",
    "      for row in f:\n",
    "        row = row.split()\n",
    "        new_list = [int(item.strip()) for item in row]\n",
    "        data.append(new_list)"
   ]
  },
  {
   "cell_type": "code",
   "execution_count": null,
   "id": "f19c8e8d",
   "metadata": {},
   "outputs": [],
   "source": [
    "data = []\n",
    "read_input(\"datasets/ml_01/test.dat\", data)"
   ]
  },
  {
   "cell_type": "markdown",
   "id": "894ccd82",
   "metadata": {},
   "source": [
    "## 1. Generate all combinations without repetition of length 3 from 6 possible ones"
   ]
  },
  {
   "cell_type": "code",
   "execution_count": null,
   "id": "a307c3fd",
   "metadata": {},
   "outputs": [],
   "source": []
  },
  {
   "cell_type": "code",
   "execution_count": null,
   "id": "9f5af15f",
   "metadata": {},
   "outputs": [],
   "source": []
  },
  {
   "cell_type": "code",
   "execution_count": null,
   "id": "1810366d",
   "metadata": {},
   "outputs": [
    {
     "name": "stdout",
     "output_type": "stream",
     "text": [
      "[(0, 1, 2), (0, 1, 3), (0, 1, 4), (0, 1, 5), (0, 2, 3), (0, 2, 4), (0, 2, 5), (0, 3, 4), (0, 3, 5), (0, 4, 5), (1, 2, 3), (1, 2, 4), (1, 2, 5), (1, 3, 4), (1, 3, 5), (1, 4, 5), (2, 3, 4), (2, 3, 5), (2, 4, 5), (3, 4, 5)]\n"
     ]
    }
   ],
   "source": []
  },
  {
   "cell_type": "markdown",
   "id": "6cdfaff2",
   "metadata": {},
   "source": [
    "## 2. On one of the test files (chess, connect), generate numerous patterns and calculate Support."
   ]
  },
  {
   "cell_type": "code",
   "execution_count": null,
   "id": "48ff7c49",
   "metadata": {},
   "outputs": [],
   "source": []
  },
  {
   "cell_type": "code",
   "execution_count": null,
   "id": "0a810168",
   "metadata": {},
   "outputs": [],
   "source": []
  },
  {
   "cell_type": "code",
   "execution_count": null,
   "id": "8da755d5",
   "metadata": {},
   "outputs": [],
   "source": []
  },
  {
   "cell_type": "code",
   "execution_count": null,
   "id": "cb7f155d",
   "metadata": {},
   "outputs": [
    {
     "data": {
      "text/plain": [
       "{(): 1.0,\n",
       " (1,): 0.7,\n",
       " (2,): 0.4,\n",
       " (3,): 0.5,\n",
       " (4,): 0.4,\n",
       " (5,): 0.7,\n",
       " (1, 3): 0.3,\n",
       " (1, 5): 0.5,\n",
       " (2, 5): 0.3,\n",
       " (3, 5): 0.3,\n",
       " (4, 5): 0.3}"
      ]
     },
     "execution_count": 9,
     "metadata": {},
     "output_type": "execute_result"
    }
   ],
   "source": []
  },
  {
   "cell_type": "markdown",
   "id": "0a185d51",
   "metadata": {},
   "source": [
    "## 3. From the generated frequent patterns, write down the rules and their Confidence."
   ]
  },
  {
   "cell_type": "code",
   "execution_count": null,
   "id": "8bc3b6be",
   "metadata": {},
   "outputs": [],
   "source": []
  },
  {
   "cell_type": "code",
   "execution_count": null,
   "id": "541eb2ae",
   "metadata": {},
   "outputs": [],
   "source": []
  }
 ],
 "metadata": {
  "kernelspec": {
   "display_name": "venv",
   "language": "python",
   "name": "python3"
  },
  "language_info": {
   "codemirror_mode": {
    "name": "ipython",
    "version": 3
   },
   "file_extension": ".py",
   "mimetype": "text/x-python",
   "name": "python",
   "nbconvert_exporter": "python",
   "pygments_lexer": "ipython3",
   "version": "3.12.10"
  }
 },
 "nbformat": 4,
 "nbformat_minor": 5
}
