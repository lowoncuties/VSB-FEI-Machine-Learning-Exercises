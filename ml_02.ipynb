{
 "cells": [
  {
   "cell_type": "markdown",
   "id": "6d4240d5",
   "metadata": {},
   "source": [
    "# Machine Learning - Exercise 2\n",
    "The aim of the exercise is to get an overview of the basic capabilities of the Pandas, Matplotlib and Seaborn libraries for the Data analysis, Vizualization and Data Transformation\n",
    "\n",
    "**Jupyter lab**\n",
    "\n",
    "* Add code\n",
    "* Add text\n",
    "* Execute command\n",
    "* Shortcuts (a, b, dd, Ctrl+Enter, Shift+Enter, x, c, v)\n",
    "\n",
    "**Alternatives**\n",
    "\n",
    "* Google Colab ([Colaboratory](https://colab.research.google.com/))\n",
    "* Python scripts in VS Code\n",
    "\n",
    "\"![meme01](https://github.com/lowoncuties/VSB-FEI-Machine-Learning-Exercises/blob/main/images/fml_01_meme_01.png?raw=true)"
   ]
  },
  {
   "cell_type": "markdown",
   "id": "24d21256",
   "metadata": {},
   "source": [
    "## Import used packages"
   ]
  },
  {
   "cell_type": "code",
   "execution_count": 2,
   "id": "a1c80efa",
   "metadata": {},
   "outputs": [],
   "source": [
    "import pandas as pd # dataframes\n",
    "import numpy as np # matrices and linear algebra\n",
    "import matplotlib.pyplot as plt # plotting\n",
    "import seaborn as sns # another matplotlib interface - styled and easier to use\n",
    "import sklearn.preprocessing # library for data preprocessing"
   ]
  },
  {
   "cell_type": "markdown",
   "id": "e556d3a8",
   "metadata": {},
   "source": [
    "## Load data into Pandas DataFrame"
   ]
  },
  {
   "cell_type": "code",
   "execution_count": 3,
   "id": "5643f809",
   "metadata": {},
   "outputs": [
    {
     "data": {
      "text/html": [
       "<div>\n",
       "<style scoped>\n",
       "    .dataframe tbody tr th:only-of-type {\n",
       "        vertical-align: middle;\n",
       "    }\n",
       "\n",
       "    .dataframe tbody tr th {\n",
       "        vertical-align: top;\n",
       "    }\n",
       "\n",
       "    .dataframe thead th {\n",
       "        text-align: right;\n",
       "    }\n",
       "</style>\n",
       "<table border=\"1\" class=\"dataframe\">\n",
       "  <thead>\n",
       "    <tr style=\"text-align: right;\">\n",
       "      <th></th>\n",
       "      <th>property_id</th>\n",
       "      <th>country</th>\n",
       "      <th>city</th>\n",
       "      <th>property_type</th>\n",
       "      <th>furnishing_status</th>\n",
       "      <th>property_size_sqft</th>\n",
       "      <th>price</th>\n",
       "      <th>constructed_year</th>\n",
       "      <th>previous_owners</th>\n",
       "      <th>rooms</th>\n",
       "      <th>...</th>\n",
       "      <th>customer_salary</th>\n",
       "      <th>loan_amount</th>\n",
       "      <th>loan_tenure_years</th>\n",
       "      <th>monthly_expenses</th>\n",
       "      <th>down_payment</th>\n",
       "      <th>emi_to_income_ratio</th>\n",
       "      <th>satisfaction_score</th>\n",
       "      <th>neighbourhood_rating</th>\n",
       "      <th>connectivity_score</th>\n",
       "      <th>decision</th>\n",
       "    </tr>\n",
       "  </thead>\n",
       "  <tbody>\n",
       "    <tr>\n",
       "      <th>0</th>\n",
       "      <td>1</td>\n",
       "      <td>France</td>\n",
       "      <td>Marseille</td>\n",
       "      <td>Farmhouse</td>\n",
       "      <td>Semi-Furnished</td>\n",
       "      <td>991</td>\n",
       "      <td>412935</td>\n",
       "      <td>1989</td>\n",
       "      <td>6</td>\n",
       "      <td>6</td>\n",
       "      <td>...</td>\n",
       "      <td>10745</td>\n",
       "      <td>193949</td>\n",
       "      <td>15</td>\n",
       "      <td>6545</td>\n",
       "      <td>218986</td>\n",
       "      <td>0.16</td>\n",
       "      <td>1</td>\n",
       "      <td>5</td>\n",
       "      <td>6</td>\n",
       "      <td>0</td>\n",
       "    </tr>\n",
       "    <tr>\n",
       "      <th>1</th>\n",
       "      <td>2</td>\n",
       "      <td>South Africa</td>\n",
       "      <td>Cape Town</td>\n",
       "      <td>Apartment</td>\n",
       "      <td>Semi-Furnished</td>\n",
       "      <td>1244</td>\n",
       "      <td>224538</td>\n",
       "      <td>1990</td>\n",
       "      <td>4</td>\n",
       "      <td>8</td>\n",
       "      <td>...</td>\n",
       "      <td>16970</td>\n",
       "      <td>181465</td>\n",
       "      <td>20</td>\n",
       "      <td>8605</td>\n",
       "      <td>43073</td>\n",
       "      <td>0.08</td>\n",
       "      <td>9</td>\n",
       "      <td>1</td>\n",
       "      <td>2</td>\n",
       "      <td>0</td>\n",
       "    </tr>\n",
       "    <tr>\n",
       "      <th>2</th>\n",
       "      <td>3</td>\n",
       "      <td>South Africa</td>\n",
       "      <td>Johannesburg</td>\n",
       "      <td>Farmhouse</td>\n",
       "      <td>Semi-Furnished</td>\n",
       "      <td>4152</td>\n",
       "      <td>745104</td>\n",
       "      <td>2019</td>\n",
       "      <td>5</td>\n",
       "      <td>2</td>\n",
       "      <td>...</td>\n",
       "      <td>21914</td>\n",
       "      <td>307953</td>\n",
       "      <td>30</td>\n",
       "      <td>2510</td>\n",
       "      <td>437151</td>\n",
       "      <td>0.09</td>\n",
       "      <td>6</td>\n",
       "      <td>8</td>\n",
       "      <td>1</td>\n",
       "      <td>0</td>\n",
       "    </tr>\n",
       "    <tr>\n",
       "      <th>3</th>\n",
       "      <td>4</td>\n",
       "      <td>Germany</td>\n",
       "      <td>Frankfurt</td>\n",
       "      <td>Farmhouse</td>\n",
       "      <td>Semi-Furnished</td>\n",
       "      <td>3714</td>\n",
       "      <td>1110959</td>\n",
       "      <td>2008</td>\n",
       "      <td>1</td>\n",
       "      <td>3</td>\n",
       "      <td>...</td>\n",
       "      <td>17980</td>\n",
       "      <td>674720</td>\n",
       "      <td>15</td>\n",
       "      <td>8805</td>\n",
       "      <td>436239</td>\n",
       "      <td>0.33</td>\n",
       "      <td>2</td>\n",
       "      <td>6</td>\n",
       "      <td>6</td>\n",
       "      <td>0</td>\n",
       "    </tr>\n",
       "    <tr>\n",
       "      <th>4</th>\n",
       "      <td>5</td>\n",
       "      <td>South Africa</td>\n",
       "      <td>Johannesburg</td>\n",
       "      <td>Townhouse</td>\n",
       "      <td>Fully-Furnished</td>\n",
       "      <td>531</td>\n",
       "      <td>99041</td>\n",
       "      <td>2007</td>\n",
       "      <td>6</td>\n",
       "      <td>3</td>\n",
       "      <td>...</td>\n",
       "      <td>17676</td>\n",
       "      <td>65833</td>\n",
       "      <td>25</td>\n",
       "      <td>8965</td>\n",
       "      <td>33208</td>\n",
       "      <td>0.03</td>\n",
       "      <td>3</td>\n",
       "      <td>3</td>\n",
       "      <td>4</td>\n",
       "      <td>0</td>\n",
       "    </tr>\n",
       "    <tr>\n",
       "      <th>...</th>\n",
       "      <td>...</td>\n",
       "      <td>...</td>\n",
       "      <td>...</td>\n",
       "      <td>...</td>\n",
       "      <td>...</td>\n",
       "      <td>...</td>\n",
       "      <td>...</td>\n",
       "      <td>...</td>\n",
       "      <td>...</td>\n",
       "      <td>...</td>\n",
       "      <td>...</td>\n",
       "      <td>...</td>\n",
       "      <td>...</td>\n",
       "      <td>...</td>\n",
       "      <td>...</td>\n",
       "      <td>...</td>\n",
       "      <td>...</td>\n",
       "      <td>...</td>\n",
       "      <td>...</td>\n",
       "      <td>...</td>\n",
       "      <td>...</td>\n",
       "    </tr>\n",
       "    <tr>\n",
       "      <th>199995</th>\n",
       "      <td>199996</td>\n",
       "      <td>Germany</td>\n",
       "      <td>Berlin</td>\n",
       "      <td>Villa</td>\n",
       "      <td>Fully-Furnished</td>\n",
       "      <td>685</td>\n",
       "      <td>203328</td>\n",
       "      <td>1968</td>\n",
       "      <td>1</td>\n",
       "      <td>3</td>\n",
       "      <td>...</td>\n",
       "      <td>78330</td>\n",
       "      <td>104050</td>\n",
       "      <td>15</td>\n",
       "      <td>17670</td>\n",
       "      <td>99278</td>\n",
       "      <td>0.01</td>\n",
       "      <td>8</td>\n",
       "      <td>4</td>\n",
       "      <td>5</td>\n",
       "      <td>1</td>\n",
       "    </tr>\n",
       "    <tr>\n",
       "      <th>199996</th>\n",
       "      <td>199997</td>\n",
       "      <td>China</td>\n",
       "      <td>Shenzhen</td>\n",
       "      <td>Townhouse</td>\n",
       "      <td>Unfurnished</td>\n",
       "      <td>3818</td>\n",
       "      <td>1454627</td>\n",
       "      <td>1977</td>\n",
       "      <td>5</td>\n",
       "      <td>7</td>\n",
       "      <td>...</td>\n",
       "      <td>25400</td>\n",
       "      <td>1175297</td>\n",
       "      <td>20</td>\n",
       "      <td>2865</td>\n",
       "      <td>279330</td>\n",
       "      <td>0.34</td>\n",
       "      <td>7</td>\n",
       "      <td>10</td>\n",
       "      <td>9</td>\n",
       "      <td>1</td>\n",
       "    </tr>\n",
       "    <tr>\n",
       "      <th>199997</th>\n",
       "      <td>199998</td>\n",
       "      <td>Japan</td>\n",
       "      <td>Kyoto</td>\n",
       "      <td>Villa</td>\n",
       "      <td>Semi-Furnished</td>\n",
       "      <td>3603</td>\n",
       "      <td>1619147</td>\n",
       "      <td>1990</td>\n",
       "      <td>2</td>\n",
       "      <td>4</td>\n",
       "      <td>...</td>\n",
       "      <td>28220</td>\n",
       "      <td>743049</td>\n",
       "      <td>30</td>\n",
       "      <td>5595</td>\n",
       "      <td>876098</td>\n",
       "      <td>0.17</td>\n",
       "      <td>5</td>\n",
       "      <td>3</td>\n",
       "      <td>9</td>\n",
       "      <td>0</td>\n",
       "    </tr>\n",
       "    <tr>\n",
       "      <th>199998</th>\n",
       "      <td>199999</td>\n",
       "      <td>South Africa</td>\n",
       "      <td>Johannesburg</td>\n",
       "      <td>Apartment</td>\n",
       "      <td>Unfurnished</td>\n",
       "      <td>1706</td>\n",
       "      <td>306165</td>\n",
       "      <td>2010</td>\n",
       "      <td>0</td>\n",
       "      <td>4</td>\n",
       "      <td>...</td>\n",
       "      <td>12240</td>\n",
       "      <td>150774</td>\n",
       "      <td>15</td>\n",
       "      <td>16300</td>\n",
       "      <td>155391</td>\n",
       "      <td>0.11</td>\n",
       "      <td>6</td>\n",
       "      <td>10</td>\n",
       "      <td>6</td>\n",
       "      <td>0</td>\n",
       "    </tr>\n",
       "    <tr>\n",
       "      <th>199999</th>\n",
       "      <td>200000</td>\n",
       "      <td>Brazil</td>\n",
       "      <td>Rio de Janeiro</td>\n",
       "      <td>Apartment</td>\n",
       "      <td>Semi-Furnished</td>\n",
       "      <td>3652</td>\n",
       "      <td>732698</td>\n",
       "      <td>1986</td>\n",
       "      <td>0</td>\n",
       "      <td>1</td>\n",
       "      <td>...</td>\n",
       "      <td>22644</td>\n",
       "      <td>548714</td>\n",
       "      <td>30</td>\n",
       "      <td>5165</td>\n",
       "      <td>183984</td>\n",
       "      <td>0.15</td>\n",
       "      <td>6</td>\n",
       "      <td>4</td>\n",
       "      <td>9</td>\n",
       "      <td>0</td>\n",
       "    </tr>\n",
       "  </tbody>\n",
       "</table>\n",
       "<p>200000 rows × 25 columns</p>\n",
       "</div>"
      ],
      "text/plain": [
       "        property_id       country            city property_type  \\\n",
       "0                 1        France       Marseille     Farmhouse   \n",
       "1                 2  South Africa       Cape Town     Apartment   \n",
       "2                 3  South Africa    Johannesburg     Farmhouse   \n",
       "3                 4       Germany       Frankfurt     Farmhouse   \n",
       "4                 5  South Africa    Johannesburg     Townhouse   \n",
       "...             ...           ...             ...           ...   \n",
       "199995       199996       Germany          Berlin         Villa   \n",
       "199996       199997         China        Shenzhen     Townhouse   \n",
       "199997       199998         Japan           Kyoto         Villa   \n",
       "199998       199999  South Africa    Johannesburg     Apartment   \n",
       "199999       200000        Brazil  Rio de Janeiro     Apartment   \n",
       "\n",
       "       furnishing_status  property_size_sqft    price  constructed_year  \\\n",
       "0         Semi-Furnished                 991   412935              1989   \n",
       "1         Semi-Furnished                1244   224538              1990   \n",
       "2         Semi-Furnished                4152   745104              2019   \n",
       "3         Semi-Furnished                3714  1110959              2008   \n",
       "4        Fully-Furnished                 531    99041              2007   \n",
       "...                  ...                 ...      ...               ...   \n",
       "199995   Fully-Furnished                 685   203328              1968   \n",
       "199996       Unfurnished                3818  1454627              1977   \n",
       "199997    Semi-Furnished                3603  1619147              1990   \n",
       "199998       Unfurnished                1706   306165              2010   \n",
       "199999    Semi-Furnished                3652   732698              1986   \n",
       "\n",
       "        previous_owners  rooms  ...  customer_salary  loan_amount  \\\n",
       "0                     6      6  ...            10745       193949   \n",
       "1                     4      8  ...            16970       181465   \n",
       "2                     5      2  ...            21914       307953   \n",
       "3                     1      3  ...            17980       674720   \n",
       "4                     6      3  ...            17676        65833   \n",
       "...                 ...    ...  ...              ...          ...   \n",
       "199995                1      3  ...            78330       104050   \n",
       "199996                5      7  ...            25400      1175297   \n",
       "199997                2      4  ...            28220       743049   \n",
       "199998                0      4  ...            12240       150774   \n",
       "199999                0      1  ...            22644       548714   \n",
       "\n",
       "        loan_tenure_years  monthly_expenses  down_payment  \\\n",
       "0                      15              6545        218986   \n",
       "1                      20              8605         43073   \n",
       "2                      30              2510        437151   \n",
       "3                      15              8805        436239   \n",
       "4                      25              8965         33208   \n",
       "...                   ...               ...           ...   \n",
       "199995                 15             17670         99278   \n",
       "199996                 20              2865        279330   \n",
       "199997                 30              5595        876098   \n",
       "199998                 15             16300        155391   \n",
       "199999                 30              5165        183984   \n",
       "\n",
       "        emi_to_income_ratio  satisfaction_score  neighbourhood_rating  \\\n",
       "0                      0.16                   1                     5   \n",
       "1                      0.08                   9                     1   \n",
       "2                      0.09                   6                     8   \n",
       "3                      0.33                   2                     6   \n",
       "4                      0.03                   3                     3   \n",
       "...                     ...                 ...                   ...   \n",
       "199995                 0.01                   8                     4   \n",
       "199996                 0.34                   7                    10   \n",
       "199997                 0.17                   5                     3   \n",
       "199998                 0.11                   6                    10   \n",
       "199999                 0.15                   6                     4   \n",
       "\n",
       "        connectivity_score  decision  \n",
       "0                        6         0  \n",
       "1                        2         0  \n",
       "2                        1         0  \n",
       "3                        6         0  \n",
       "4                        4         0  \n",
       "...                    ...       ...  \n",
       "199995                   5         1  \n",
       "199996                   9         1  \n",
       "199997                   9         0  \n",
       "199998                   6         0  \n",
       "199999                   9         0  \n",
       "\n",
       "[200000 rows x 25 columns]"
      ]
     },
     "execution_count": 3,
     "metadata": {},
     "output_type": "execute_result"
    }
   ],
   "source": [
    "df_full = pd.read_csv('datasets/ml_02/global_house_purchase_dataset.csv', sep=',')\n",
    "df_full"
   ]
  },
  {
   "cell_type": "markdown",
   "id": "3b3ca4f7",
   "metadata": {},
   "source": [
    "## Show first 5 rows"
   ]
  },
  {
   "cell_type": "code",
   "execution_count": null,
   "id": "8cf3860a",
   "metadata": {},
   "outputs": [],
   "source": []
  },
  {
   "cell_type": "markdown",
   "id": "00fbaff5",
   "metadata": {},
   "source": [
    "## Show last 20 rows"
   ]
  },
  {
   "cell_type": "code",
   "execution_count": null,
   "id": "90691f2e",
   "metadata": {},
   "outputs": [],
   "source": []
  },
  {
   "cell_type": "markdown",
   "id": "fea5f6fe",
   "metadata": {},
   "source": [
    "## If we want to know if there are any missing values, the isna() function may render useful"
   ]
  },
  {
   "cell_type": "code",
   "execution_count": null,
   "id": "50efc786",
   "metadata": {},
   "outputs": [],
   "source": []
  },
  {
   "cell_type": "markdown",
   "id": "b4ae135c",
   "metadata": {},
   "source": [
    "## We can show summary of common statistical characteristic of the data using the describe() function"
   ]
  },
  {
   "cell_type": "code",
   "execution_count": null,
   "id": "784129a5",
   "metadata": {},
   "outputs": [],
   "source": []
  },
  {
   "cell_type": "markdown",
   "id": "ffcec8d3",
   "metadata": {},
   "source": [
    "## 💡 Dataframe has several useful properties\n",
    "    - shape\n",
    "    - dtypes\n",
    "    - columns\n",
    "    - index"
   ]
  },
  {
   "cell_type": "markdown",
   "id": "ba8727ec",
   "metadata": {},
   "source": [
    "### Row and column count"
   ]
  },
  {
   "cell_type": "code",
   "execution_count": null,
   "id": "0d7cb160",
   "metadata": {},
   "outputs": [],
   "source": []
  },
  {
   "cell_type": "markdown",
   "id": "87146ca7",
   "metadata": {},
   "source": [
    "### Datatypes of columns"
   ]
  },
  {
   "cell_type": "code",
   "execution_count": null,
   "id": "7e144494",
   "metadata": {},
   "outputs": [],
   "source": []
  },
  {
   "cell_type": "markdown",
   "id": "683364d0",
   "metadata": {},
   "source": [
    "### Column names"
   ]
  },
  {
   "cell_type": "code",
   "execution_count": null,
   "id": "290bd701",
   "metadata": {},
   "outputs": [],
   "source": []
  },
  {
   "cell_type": "markdown",
   "id": "a026e080",
   "metadata": {},
   "source": [
    "### Row index values"
   ]
  },
  {
   "cell_type": "code",
   "execution_count": null,
   "id": "2e06ee3a",
   "metadata": {},
   "outputs": [],
   "source": []
  },
  {
   "cell_type": "markdown",
   "id": "b5788de1",
   "metadata": {},
   "source": [
    "## We may want to work with just one column not the whole dataframe\n",
    "- We will select only the price columns and save it to another variable"
   ]
  },
  {
   "cell_type": "code",
   "execution_count": null,
   "id": "ddad4684",
   "metadata": {},
   "outputs": [],
   "source": []
  },
  {
   "cell_type": "markdown",
   "id": "9d5b3a83",
   "metadata": {},
   "source": [
    "## Columns are called Pandas Series - it shares a common API with Pandas DataFrame\n",
    "- 💡 Pandas is numpy-backed so we can use Series as standard numpy arrays without any issues using the .values property"
   ]
  },
  {
   "cell_type": "code",
   "execution_count": null,
   "id": "8866862b",
   "metadata": {},
   "outputs": [],
   "source": []
  },
  {
   "cell_type": "markdown",
   "id": "749e4524",
   "metadata": {},
   "source": [
    "## Find maximum price using Numpy and Pandas"
   ]
  },
  {
   "cell_type": "code",
   "execution_count": null,
   "id": "6750f5ab",
   "metadata": {},
   "outputs": [],
   "source": []
  },
  {
   "cell_type": "code",
   "execution_count": null,
   "id": "b0e106ba",
   "metadata": {},
   "outputs": [],
   "source": []
  },
  {
   "cell_type": "markdown",
   "id": "5d465ed9",
   "metadata": {},
   "source": [
    "## Data filtering using Pandas DataFrame\n",
    "- There are several ways of filtering the data (similar logic to .Where() in C# or WHERE in SQL)\n",
    "- 💡 We usually work with two indexers - .loc[] and .iloc[]\n",
    "\n",
    "### The .iloc[] indexer works with positional indexes - very close to the way of working with the raw arrays\n",
    "### The .loc[] indexer works with column names and logical expressions"
   ]
  },
  {
   "cell_type": "markdown",
   "id": "e7327908",
   "metadata": {},
   "source": [
    "### Select all rows and 3rd column of dataframe"
   ]
  },
  {
   "cell_type": "code",
   "execution_count": null,
   "id": "ccd94503",
   "metadata": {},
   "outputs": [],
   "source": []
  },
  {
   "cell_type": "markdown",
   "id": "929807c1",
   "metadata": {},
   "source": [
    "### Select all rows and LAST column of dataframe"
   ]
  },
  {
   "cell_type": "code",
   "execution_count": null,
   "id": "86e18671",
   "metadata": {},
   "outputs": [],
   "source": []
  },
  {
   "cell_type": "markdown",
   "id": "3e0efa63",
   "metadata": {},
   "source": [
    "### Select 4th to 10th row and all columns"
   ]
  },
  {
   "cell_type": "code",
   "execution_count": null,
   "id": "95decc1e",
   "metadata": {},
   "outputs": [],
   "source": []
  },
  {
   "cell_type": "markdown",
   "id": "78a46d96",
   "metadata": {},
   "source": [
    "### Select 2nd to 13th row and 3rd column"
   ]
  },
  {
   "cell_type": "code",
   "execution_count": null,
   "id": "47c93edd",
   "metadata": {},
   "outputs": [],
   "source": []
  },
  {
   "cell_type": "markdown",
   "id": "12dab0fb",
   "metadata": {},
   "source": [
    "## Select only a subset of columns to a new dataframe\n",
    "> ['property_id', 'country','city','property_type','property_size_sqft','price','constructed_year','rooms','garden','crime_cases_reported','loan_amount','monthly_expenses']"
   ]
  },
  {
   "cell_type": "code",
   "execution_count": null,
   "id": "8ca37547",
   "metadata": {},
   "outputs": [],
   "source": []
  },
  {
   "cell_type": "markdown",
   "id": "cbd2ed2f",
   "metadata": {},
   "source": [
    "### Select only houses built in year 2000 or later\n",
    "* constructed_year"
   ]
  },
  {
   "cell_type": "code",
   "execution_count": null,
   "id": "bca0533d",
   "metadata": {},
   "outputs": [],
   "source": []
  },
  {
   "cell_type": "markdown",
   "id": "d5004cd2",
   "metadata": {},
   "source": [
    "### Select only houses that are not Farmhouse (try != and ~ operators)\n",
    "* property_type"
   ]
  },
  {
   "cell_type": "code",
   "execution_count": null,
   "id": "dae5b727",
   "metadata": {},
   "outputs": [],
   "source": []
  },
  {
   "cell_type": "code",
   "execution_count": null,
   "id": "dcf4aab2",
   "metadata": {},
   "outputs": [],
   "source": []
  },
  {
   "cell_type": "markdown",
   "id": "b19d6064",
   "metadata": {},
   "source": [
    "### Select houses cheaper than 200k USD and have atleast 6 rooms\n",
    "* price, rooms"
   ]
  },
  {
   "cell_type": "code",
   "execution_count": null,
   "id": "d54b4236",
   "metadata": {},
   "outputs": [],
   "source": []
  },
  {
   "cell_type": "markdown",
   "id": "a7051cc3",
   "metadata": {},
   "source": [
    "### Select houses that are cheaper than 150K and are built after 1990 or have monthly expenses under 10K and are in France\n",
    "* price, constructed_year, monthly_expenses, country"
   ]
  },
  {
   "cell_type": "code",
   "execution_count": null,
   "id": "0b4f9e50",
   "metadata": {},
   "outputs": [],
   "source": []
  },
  {
   "cell_type": "markdown",
   "id": "007c140f",
   "metadata": {},
   "source": [
    "# We can add new columns to the DataFrame as well\n",
    "\n",
    "![meme02](https://github.com/lowoncuties/VSB-FEI-Machine-Learning-Exercises/blob/main/images/fml_01_meme_02.png?raw=true)"
   ]
  },
  {
   "cell_type": "markdown",
   "id": "811c2bfc",
   "metadata": {},
   "source": [
    "### Add a new column named price_per_sqft_feet\n",
    "* price, property_size_sqft"
   ]
  },
  {
   "cell_type": "code",
   "execution_count": null,
   "id": "1a3f7d46",
   "metadata": {},
   "outputs": [],
   "source": []
  },
  {
   "cell_type": "markdown",
   "id": "533f59e1",
   "metadata": {},
   "source": [
    "## Pandas enables us to use aggregation functions for the data using the .groupby() function"
   ]
  },
  {
   "cell_type": "markdown",
   "id": "ed272762",
   "metadata": {},
   "source": [
    "### Compute counts for all the property types (groupby / value_counts)\n",
    "* property_type"
   ]
  },
  {
   "cell_type": "code",
   "execution_count": null,
   "id": "97d1ce4f",
   "metadata": {},
   "outputs": [],
   "source": []
  },
  {
   "cell_type": "code",
   "execution_count": null,
   "id": "d124dee9",
   "metadata": {},
   "outputs": [],
   "source": []
  },
  {
   "cell_type": "markdown",
   "id": "43f36c41",
   "metadata": {},
   "source": [
    "# Visualization"
   ]
  },
  {
   "cell_type": "markdown",
   "id": "1d4e78b2",
   "metadata": {},
   "source": [
    "### Don't switch to scientific notation for plots"
   ]
  },
  {
   "cell_type": "code",
   "execution_count": null,
   "id": "4d4a6eaa",
   "metadata": {},
   "outputs": [],
   "source": [
    "plt.rcParams['axes.formatter.useoffset'] = False   # remove the +1e6 offset text\n",
    "plt.rcParams['axes.formatter.limits'] = (-100, 100)  # never switch to sci notation\n"
   ]
  },
  {
   "cell_type": "markdown",
   "id": "4012271e",
   "metadata": {},
   "source": [
    "## Plots and how not to get lost among them\n",
    "Here’s a guide to help you decide which plot to choose for different situations"
   ]
  },
  {
   "cell_type": "markdown",
   "id": "24dbdb41",
   "metadata": {},
   "source": [
    "### Histogram\n",
    "- **Purpose**: Displays the distribution of a single continuous variable by dividing the data into bins and showing how many values fall within each bin.\n",
    "- **Use it when**: You want to understand the distribution or shape of a dataset, identify multiple peaks (occurrences throughout the time, etc)\n",
    "- **Example**: Understanding how exam scores are distributed in a class.\n",
    "- **In-depth explanation** [Histogram](https://labxchange.org/library/items/lb:LabXchange:10d3270e:html:1)\n",
    "  \n",
    "    ![Histogram explained](https://github.com/lowoncuties/VSB-FEI-Fundamentals-of-Machine-Learning-Exercises/blob/master/images/histogram_explained.png?raw=true)\n",
    "\n",
    "### Boxplot\n",
    "- **Purpose**: Visualizes the summary statistics (e.g., median, quartiles) of a continuous variable, highlighting the spread of the data and potential outliers.\n",
    "- **Use it when**: You need to compare distributions across categories or identify outliers and the overall spread of the data.\n",
    "- **Example**: Comparing income distributions across different job titles.\n",
    "- **In-depth explanation** [Boxplot](https://www.simplypsychology.org/boxplots.html)\n",
    " \n",
    "    ![Boxplot explained](https://github.com/lowoncuties/VSB-FEI-Fundamentals-of-Machine-Learning-Exercises/blob/master/images/boxplot_explained.png?raw=true)\n",
    "    \n",
    "### Barplot\n",
    "- **Purpose**: Displays categorical data with bars representing the frequency or value of each category.\n",
    "- **Use it when**: You want to compare the size of different categories.\n",
    "- **Example**: Showing the number of students in each grade category (A, B, C).\n",
    "- **In-depth explanation** [Barplot](https://www.labxchange.org/library/items/lb:LabXchange:e034541a:html:1)\n",
    "  \n",
    "  ![Barplot explained](https://github.com/lowoncuties/VSB-FEI-Fundamentals-of-Machine-Learning-Exercises/blob/master/images/barplot_explained.png?raw=true)\n",
    "### Scatterplot\n",
    "- **Purpose**: Shows the relationship between two continuous variables, with each point representing an observation.\n",
    "- **Use it when**: You want to explore potential correlations or patterns between two variables.\n",
    "- **Example**: Exploring the relationship between hours studied and exam scores.\n",
    "- **In-depth explanation** [Scatterplot](https://www.atlassian.com/data/charts/what-is-a-scatter-plot)\n",
    "  \n",
    "    ![Scatterplot explained](https://github.com/lowoncuties/VSB-FEI-Fundamentals-of-Machine-Learning-Exercises/blob/master/images/scatterplot_explained.png?raw=true)\n",
    "  \n",
    "### Line Plot\n",
    "- **Purpose**: Connects data points with a line to show trends over time or other ordered variables.\n",
    "- **Use it when**: You want to track changes or trends, especially over time.\n",
    "- **Example**: Visualizing the monthly sales of a product over a year.\n",
    "- **In-depth explanation** [Line plot/graph](https://www.atlassian.com/data/charts/line-chart-complete-guide)\n",
    "\n",
    "    ![Line plot/graph explained](https://github.com/lowoncuties/VSB-FEI-Fundamentals-of-Machine-Learning-Exercises/blob/master/images/lineplot_explained.png?raw=true)"
   ]
  },
  {
   "cell_type": "markdown",
   "id": "7b21dd86",
   "metadata": {},
   "source": [
    "## Vizualize house prices in form of histogram\n",
    "- What does it tell us about the prices?"
   ]
  },
  {
   "cell_type": "code",
   "execution_count": null,
   "id": "8043276a",
   "metadata": {},
   "outputs": [],
   "source": []
  },
  {
   "cell_type": "markdown",
   "id": "0c4386f8",
   "metadata": {},
   "source": [
    "### Modify bins\n",
    "- Perhaps we want to visualize the histogram with more dense or coarse bins\n",
    "- *bins* attribute"
   ]
  },
  {
   "cell_type": "code",
   "execution_count": null,
   "id": "4b8c7c02",
   "metadata": {},
   "outputs": [],
   "source": []
  },
  {
   "cell_type": "markdown",
   "id": "3d1900a0",
   "metadata": {},
   "source": [
    "## 🔎 What can we say about prices based on the quantiles?\n",
    "### Use function *axvline* from Matplotlib to draw vertical lines at the quartile positions"
   ]
  },
  {
   "cell_type": "code",
   "execution_count": null,
   "id": "93823b4c",
   "metadata": {},
   "outputs": [],
   "source": []
  },
  {
   "cell_type": "code",
   "execution_count": null,
   "id": "44dc0d86",
   "metadata": {},
   "outputs": [],
   "source": []
  },
  {
   "cell_type": "markdown",
   "id": "7b6f4b95",
   "metadata": {},
   "source": [
    "## 💡 *col* attribute to automatically plot every histogram on its own canvas"
   ]
  },
  {
   "cell_type": "code",
   "execution_count": null,
   "id": "af3a2ef4",
   "metadata": {},
   "outputs": [],
   "source": []
  },
  {
   "cell_type": "markdown",
   "id": "459742e6",
   "metadata": {},
   "source": [
    "# 📊 Another very useful tecnique for the numerical features distributions are boxplots\n",
    "- 🔎 Did you see any of these before?\n",
    "\n",
    "- 🔎 How should we read boxplots?\n",
    "    - **Quartiles**\n",
    "    - **Median**\n",
    "    - Box size\n",
    "    - **Outliers and IQR**\n",
    "    - Min/max - with or without outliers"
   ]
  },
  {
   "cell_type": "markdown",
   "id": "1c832224",
   "metadata": {},
   "source": [
    "### Plot only the *price* using boxplot"
   ]
  },
  {
   "cell_type": "code",
   "execution_count": null,
   "id": "1810cf50",
   "metadata": {},
   "outputs": [],
   "source": []
  },
  {
   "cell_type": "markdown",
   "id": "e3c0ecc2",
   "metadata": {},
   "source": [
    "## Let's take a look at the *price* for different *property_type* values \n",
    "- 🔎 What can we say about the prices?"
   ]
  },
  {
   "cell_type": "code",
   "execution_count": null,
   "id": "b41ecaf0",
   "metadata": {},
   "outputs": [],
   "source": []
  },
  {
   "cell_type": "markdown",
   "id": "ce5304bb",
   "metadata": {},
   "source": [
    "## We can do the same for *property_size_sqft*"
   ]
  },
  {
   "cell_type": "code",
   "execution_count": null,
   "id": "797e8075",
   "metadata": {},
   "outputs": [],
   "source": []
  },
  {
   "cell_type": "markdown",
   "id": "e96b8b0b",
   "metadata": {},
   "source": [
    "## Let's take a look at the *rooms* for different *property_type* values \n",
    "- 🔎 What can we say about that ?"
   ]
  },
  {
   "cell_type": "code",
   "execution_count": null,
   "id": "a01ffd9e",
   "metadata": {},
   "outputs": [],
   "source": []
  },
  {
   "cell_type": "markdown",
   "id": "a1551276",
   "metadata": {},
   "source": [
    "# 📊 Scatter plots are commonly used for visualizing two numerical variables"
   ]
  },
  {
   "cell_type": "markdown",
   "id": "6d14edb9",
   "metadata": {},
   "source": [
    "### We can use standard *scatterplot* with *property_type* as a *hue* so we can better grasp the relationship between *property_size_sqft* and *price*\n",
    "* Try to set *alpha* parameter for opacity settings"
   ]
  },
  {
   "cell_type": "code",
   "execution_count": null,
   "id": "cb4d4ee8",
   "metadata": {},
   "outputs": [],
   "source": []
  },
  {
   "cell_type": "code",
   "execution_count": null,
   "id": "77b7f5ca",
   "metadata": {},
   "outputs": [],
   "source": []
  },
  {
   "cell_type": "markdown",
   "id": "8b5789ea",
   "metadata": {},
   "source": [
    "# 📊 Correlation\n",
    "* 🔎 What does the *correlation coefficient* tell you?\n",
    "* What is the range of it?\n",
    "* Is it useful for each type of relationship?\n",
    "* 💡 **Correlation is not causation**\n",
    "    * e.g. Ice cream sales X Number of thefts\n",
    "    * Means that two variables are associated with each other, but it does not imply that one variable causes the other to change.\n",
    "\n",
    "- Take a look at [this link](https://www.dummies.com/education/math/statistics/how-to-interpret-a-correlation-coefficient-r/)\n",
    "- See also [this](https://www.simplypsychology.org/correlation.html) or [this](https://www.investopedia.com/ask/answers/032515/what-does-it-mean-if-correlation-coefficient-positive-negative-or-zero.asp) for some more info about the topic\n",
    "\n",
    "![meme03](https://github.com/lowoncuties/VSB-FEI-Machine-Learning-Exercises/blob/main/images/ml_02_meme_03.png?raw=true)"
   ]
  },
  {
   "cell_type": "markdown",
   "id": "fb5db659",
   "metadata": {},
   "source": [
    "## We can compute the correlation matrix using *corr()* function\n",
    "* Select columns first\n",
    "\n",
    "> ['property_size_sqft', 'price', 'constructed_year', 'rooms', 'garage', 'garden', 'crime_cases_reported']"
   ]
  },
  {
   "cell_type": "code",
   "execution_count": null,
   "id": "223dc7b1",
   "metadata": {},
   "outputs": [],
   "source": []
  },
  {
   "cell_type": "markdown",
   "id": "7ec36999",
   "metadata": {},
   "source": [
    "### Visualize correlations using Heatmap"
   ]
  },
  {
   "cell_type": "code",
   "execution_count": null,
   "id": "0068db2d",
   "metadata": {},
   "outputs": [],
   "source": []
  },
  {
   "cell_type": "markdown",
   "id": "f4f20e14",
   "metadata": {},
   "source": [
    "## Data Transformations\n",
    "\n",
    "It is important to select the appropriate scaling method of the number features\n",
    "* There are many ways how to do this - **MinMax, StandardScaler, PowerTransform, ...**\n",
    "* This step heavily depends on a domain knowledge because the scales of the features have significant effect on a distances between couples of dataset instances\n",
    "    - It is clear that if one variable is in range **(0,1)** and the second one is in a range **(5000, 10 000)**, the difference in the **second feature** will be definitely **more important** than in the  first one from the numerical point of view\n",
    "    - Although it is possible that from the **domain point of view** the **first variable may be more important**\n",
    "    - 💡 Thus it is a good idea to at least transform the features into a **simiiar scales so the effect on the distance value would be similiar**\n",
    "    - Transformation depends heavily on the statistical distribution of the feature\n",
    "        - 💡You can use PowerTransform for a heavy-tailed distribution, **Standardization or MinMax normalization for normally distributed features** etc."
   ]
  },
  {
   "cell_type": "markdown",
   "id": "458fa1ac",
   "metadata": {},
   "source": [
    "### Create new DataFrame for scaled values"
   ]
  },
  {
   "cell_type": "code",
   "execution_count": null,
   "id": "b1d3fe0a",
   "metadata": {},
   "outputs": [],
   "source": [
    "df_scaled = pd.DataFrame(index = df.index)"
   ]
  },
  {
   "cell_type": "markdown",
   "id": "79caa652",
   "metadata": {},
   "source": [
    "## Take a look at the *price* feature distribution\n",
    "* What transformation would be appropriate based on that?"
   ]
  },
  {
   "cell_type": "code",
   "execution_count": null,
   "id": "052ff8f8",
   "metadata": {},
   "outputs": [],
   "source": []
  },
  {
   "cell_type": "code",
   "execution_count": null,
   "id": "325b2692",
   "metadata": {},
   "outputs": [],
   "source": []
  },
  {
   "cell_type": "markdown",
   "id": "0781c436",
   "metadata": {},
   "source": [
    "## Plot histogram of the transformed feature\n",
    "* 🔎 What has changed?"
   ]
  },
  {
   "cell_type": "code",
   "execution_count": null,
   "id": "5a121e0a",
   "metadata": {},
   "outputs": [],
   "source": []
  },
  {
   "cell_type": "code",
   "execution_count": null,
   "id": "25283346",
   "metadata": {},
   "outputs": [],
   "source": []
  },
  {
   "cell_type": "markdown",
   "id": "8293e579",
   "metadata": {},
   "source": [
    "## Take a look at the *property_size_sqft* feature distribution\n",
    "* What transformation would be appropriate based on that?"
   ]
  },
  {
   "cell_type": "code",
   "execution_count": null,
   "id": "1575ac91",
   "metadata": {},
   "outputs": [],
   "source": []
  },
  {
   "cell_type": "markdown",
   "id": "3e396e59",
   "metadata": {},
   "source": [
    "## Plot histogram of the transformed feature\n",
    "* 🔎 What has changed?"
   ]
  },
  {
   "cell_type": "code",
   "execution_count": null,
   "id": "741cd41a",
   "metadata": {},
   "outputs": [],
   "source": []
  },
  {
   "cell_type": "code",
   "execution_count": null,
   "id": "94c06e04",
   "metadata": {},
   "outputs": [],
   "source": []
  }
 ],
 "metadata": {
  "kernelspec": {
   "display_name": "venv",
   "language": "python",
   "name": "python3"
  },
  "language_info": {
   "codemirror_mode": {
    "name": "ipython",
    "version": 3
   },
   "file_extension": ".py",
   "mimetype": "text/x-python",
   "name": "python",
   "nbconvert_exporter": "python",
   "pygments_lexer": "ipython3",
   "version": "3.12.10"
  }
 },
 "nbformat": 4,
 "nbformat_minor": 5
}
